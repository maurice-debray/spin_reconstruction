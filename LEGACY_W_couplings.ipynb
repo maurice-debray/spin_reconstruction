{
 "cells": [
  {
   "cell_type": "code",
   "execution_count": 1,
   "id": "b780b7af-aee0-4d92-b830-64e9b9d3c2f7",
   "metadata": {},
   "outputs": [],
   "source": [
    "import numpy as np\n",
    "import pandas as pd\n",
    "from numba import jit, vectorize, float64, types, int64, prange\n",
    "import numba\n",
    "import matplotlib.pyplot as plt\n",
    "from tqdm.notebook import trange, tqdm\n",
    "from scipy.spatial.transform import Rotation\n",
    "from scipy.sparse import dia_matrix\n",
    "\n",
    "from datetime import datetime\n",
    "\n",
    "from qutip import sigmax, sigmay, sigmaz, jmat\n",
    "\n",
    "import time\n",
    "\n",
    "import h5py\n",
    "\n",
    "from labellines import labelLine, labelLines\n",
    "\n",
    "import os.path"
   ]
  },
  {
   "cell_type": "code",
   "execution_count": 2,
   "id": "ac206793-8fe0-4834-ad5d-2cd608cb7ed2",
   "metadata": {},
   "outputs": [],
   "source": [
    "from constants import *"
   ]
  },
  {
   "cell_type": "code",
   "execution_count": 3,
   "id": "b6f78f95-fa49-4aa2-99e8-c34a3b6bb1db",
   "metadata": {},
   "outputs": [],
   "source": [
    "\n",
    "# Beware to change this if hamiltonian or attrs structure changes !!!\n",
    "version = \"v1\"\n",
    "\n",
    "xy_max = 2/180*np.pi\n",
    "\n",
    "file = \"couplings_quarter_full.hdf5\"\n",
    "\n",
    "size = 20"
   ]
  },
  {
   "cell_type": "code",
   "execution_count": 4,
   "id": "f6849aef-519c-4558-abd3-30e7e107e44a",
   "metadata": {},
   "outputs": [],
   "source": [
    "def get_full_H_matrices(spin, pre_dim, post_dim):\n",
    "    \"\"\"\n",
    "    Construct full spin operator matrices (Sx, Sy, Sz) embedded in a larger Hilbert space.\n",
    "\n",
    "    This function generates the spin operators Sx, Sy, and Sz for a given spin value,\n",
    "    and embeds them into a larger Hilbert space. The embedding \n",
    "    places the spin operator between identity matrices of dimension `pre_dim` and `post_dim`, \n",
    "    representing dimensions before and after the target spin in a composite system.\n",
    "\n",
    "    Parameters\n",
    "    ----------\n",
    "    spin : float or int\n",
    "        Spin value of the particle (e.g., 0.5 for spin-1/2, 1 for spin-1).\n",
    "    \n",
    "    pre_dim : int\n",
    "        Dimension of the Hilbert space before the spin operator (e.g., for preceding spins).\n",
    "    \n",
    "    post_dim : int\n",
    "        Dimension of the Hilbert space after the spin operator (e.g., for succeeding spins).\n",
    "\n",
    "    Returns\n",
    "    -------\n",
    "    np.ndarray\n",
    "        A NumPy array containing the full spin operator matrices [Sx, Sy, Sz], each of shape \n",
    "        (`pre_dim` * dim_spin * `post_dim`, `pre_dim` * dim_spin * `post_dim`), where `dim_spin = int(2 * spin + 1)`.\n",
    "    \"\"\"\n",
    "    if pre_dim == 0:\n",
    "        pre_dim = 1\n",
    "    if post_dim == 0:\n",
    "        post_dim = 1\n",
    "    eye_pre = np.eye(pre_dim)\n",
    "    eye_post = np.eye(post_dim)\n",
    "    Ix = jmat(spin, 'x').full()\n",
    "    Iy = jmat(spin, 'y').full()\n",
    "    Iz = jmat(spin, 'z').full()\n",
    "    Sx = np.kron(np.kron(eye_pre, Ix), eye_post)\n",
    "    Sy = np.kron(np.kron(eye_pre, Iy), eye_post)\n",
    "    Sz = np.kron(np.kron(eye_pre, Iz), eye_post)\n",
    "    return np.array([Sx, Sy, Sz])"
   ]
  },
  {
   "cell_type": "code",
   "execution_count": 5,
   "id": "ca679a78-908c-4b96-a20c-4eafd14f3093",
   "metadata": {},
   "outputs": [],
   "source": [
    "@jit\n",
    "def dipolar_hamiltonian(mu_1, mu_2, xyz):\n",
    "    \"\"\"\n",
    "    Computes the full dipole hamiltonian of two nuclear spins magnetic moment\n",
    "    \"\"\"\n",
    "    r = np.linalg.norm(xyz)\n",
    "    return mu_0/4/np.pi/r**3 * (\n",
    "        # mu_1 . mu_2\n",
    "        mu_1[0] @ mu_2[0]\n",
    "        + mu_1[1] @ mu_2[1]\n",
    "        + mu_1[2] @ mu_2[2]\n",
    "        # -3/r² * (mu_1 . r) (mu_2 . r)\n",
    "        -3/r**2 * (\n",
    "            xyz[0]*mu_1[0]\n",
    "            + xyz[1]*mu_1[1]\n",
    "            + xyz[2]*mu_1[2]\n",
    "        )\n",
    "            @\n",
    "            (\n",
    "            xyz[0]*mu_2[0]\n",
    "            + xyz[1]*mu_2[1]\n",
    "            + xyz[2]*mu_2[2]\n",
    "            )\n",
    "        )"
   ]
  },
  {
   "cell_type": "code",
   "execution_count": 6,
   "id": "9f8a5f40-b881-427f-828b-c79dd5dcfc22",
   "metadata": {},
   "outputs": [],
   "source": [
    "\n",
    "S =  get_full_H_matrices(1/2, 0, 4)\n",
    "I1 = get_full_H_matrices(1/2, 2, 2)\n",
    "I2 = get_full_H_matrices(1/2, 4, 0)\n",
    "\n",
    "mu_S =  erbium_gamma[:,None, None] * S\n",
    "mu_I1 = gamma_w * I1\n",
    "mu_I2 = gamma_w * I2\n",
    "\n",
    "@jit\n",
    "def get_zeeman(B0):\n",
    "    # Zeeman for each atom in the 8dim Hailtonian\n",
    "    alpha = h / 2 / np.pi * omega_S / np.linalg.norm(B0*erbium_gamma)\n",
    "    H_zeeman_erbium = - alpha * (B0[0] * mu_S[0] + B0[1] * mu_S[1] + B0[2] * mu_S[2])\n",
    "    H_zeeman_I1 = -h / 2 / np.pi * omega_I * (B0[0] * I1[0] + B0[1] * I1[1] + B0[2] * I1[2])\n",
    "    H_zeeman_I2 = -h / 2 / np.pi * omega_I * (B0[0] * I2[0] + B0[1] * I2[1] + B0[2] * I2[2])\n",
    "    return H_zeeman_erbium, H_zeeman_I1, H_zeeman_I2\n",
    "\n",
    "erbium_position = lattice_x * 0.5 + lattice_y * 0.5 + lattice_z * 0.5\n",
    "\n",
    "@jit\n",
    "def get_hamiltonian2(r1, r2, B0, gamma_ratio):\n",
    "    H_zeeman_erbium, H_zeeman_I1, H_zeeman_I2 = get_zeeman(B0)\n",
    "    H_0 = (\n",
    "        H_zeeman_erbium + H_zeeman_I1 + H_zeeman_I2\n",
    "        + dipolar_hamiltonian(mu_I1, gamma_ratio * mu_I2, r1 - r2)\n",
    "        + dipolar_hamiltonian(mu_I1, mu_S, r1 - erbium_position)\n",
    "        + dipolar_hamiltonian(gamma_ratio * mu_I2, mu_S, r2 - erbium_position)\n",
    "    )\n",
    "    return H_0\n",
    "\n",
    "@jit\n",
    "def get_hamiltonian(r, B0):\n",
    "    H_zeeman_erbium, H_zeeman_I1, _ = get_zeeman(B0)\n",
    "    H_0 = (\n",
    "        H_zeeman_erbium + H_zeeman_I1\n",
    "        + dipolar_hamiltonian(mu_I1, mu_S, r - erbium_position)\n",
    "    )\n",
    "    return H_0"
   ]
  },
  {
   "cell_type": "code",
   "execution_count": 7,
   "id": "c7987027-1d1a-403c-9b7a-45d29db6951b",
   "metadata": {},
   "outputs": [],
   "source": [
    "\n",
    "@jit\n",
    "def compute_coupling_full(vec1, vec2, B, gamma_ratio):\n",
    "    r1 = lattice_x * vec1[0] + lattice_y * vec1[1] + lattice_z * vec1[2] + lattice_s[vec1[3]]\n",
    "    r2 = lattice_x * vec2[0] + lattice_y * vec2[1] + lattice_z * vec2[2] + lattice_s[vec2[3]]\n",
    "\n",
    "    H = get_hamiltonian2(r1, r2, B, gamma_ratio)\n",
    "\n",
    "    eig = np.linalg.eigvalsh(H)\n",
    "    return eig\n",
    "\n",
    "\n",
    "@jit\n",
    "def compute_coupling(vec1, vec2, B, gamma_ratio):\n",
    "    eig = compute_coupling_full(vec1, vec2, B, gamma_ratio)\n",
    "    return (eig[0] + eig[3] - eig[1] - eig[2])/h\n",
    "\n",
    "\n",
    "\n",
    "@jit\n",
    "def compute_a_par_full(vec1, B):\n",
    "    r = lattice_x * vec1[0] + lattice_y * vec1[1] + lattice_z * vec1[2] + lattice_s[vec1[3]]\n",
    "\n",
    "    H = get_hamiltonian(r, B)\n",
    "\n",
    "    eig = np.linalg.eigvalsh(H)\n",
    "    return eig\n",
    "    \n",
    "@jit\n",
    "def compute_a_par(vec1, B):\n",
    "    eig = compute_a_par_full(vec1, B)\n",
    "    return (eig[0] + eig[1] + eig[7] + eig[6] - eig[2] - eig[4] - eig[3] - eig[5])/h/2"
   ]
  },
  {
   "cell_type": "markdown",
   "id": "311c7c64-84ed-45c2-9f49-5993c67bc21e",
   "metadata": {},
   "source": [
    "# Matrix diagonalization"
   ]
  },
  {
   "cell_type": "code",
   "execution_count": 8,
   "id": "daaa4792-069c-44fd-bdbd-90af6f51858f",
   "metadata": {},
   "outputs": [],
   "source": [
    "@jit\n",
    "def index_to_coord(index, max_distance, site_nb):\n",
    "    center = max_distance // 2\n",
    "    return (\n",
    "            index // (max_distance**2 * site_nb) - center,\n",
    "            index // (max_distance * site_nb) % max_distance - center,\n",
    "            index // site_nb % max_distance - center,\n",
    "            index % site_nb\n",
    "        )\n",
    "\n",
    "@jit\n",
    "def coord_to_index(vec, max_distance, site_nb):\n",
    "    center = max_distance // 2\n",
    "    return (\n",
    "                            (\n",
    "                                (\n",
    "                                    (vec[0] + center)*max_distance + (vec[1] + center)\n",
    "                                )*max_distance\n",
    "                                + (vec[2] + center)\n",
    "                            )*site_nb\n",
    "                            + vec[3]\n",
    "                       \n",
    "       )\n",
    "\n",
    "@jit(parallel = True)\n",
    "def get_all_couplings(max_distance, site_nb, B):\n",
    "    couplings = np.empty((max_distance**3*site_nb, max_distance**3*site_nb))\n",
    "    a_par = np.empty(max_distance**3*site_nb)\n",
    "    nb_par = np.empty(max_distance**3*site_nb)\n",
    "    for i in prange(max_distance**3*site_nb):\n",
    "        couplings[i, i] = np.nan\n",
    "        vec1 = index_to_coord(i, max_distance, site_nb)\n",
    "        a_par[i] = compute_a_par(vec1, B)\n",
    "        if vec1 == (0,0,0,0):\n",
    "            nb_par[i] = np.nan\n",
    "        else:\n",
    "            nb_par[i] = compute_coupling(vec1, (0,0,0,0), B, 1/gamma_ratio)\n",
    "    for i in prange(max_distance**3*site_nb):\n",
    "        for j in prange(i+1,max_distance**3*site_nb):\n",
    "            vec1 = index_to_coord(i, max_distance, site_nb)\n",
    "            vec2 = index_to_coord(j, max_distance, site_nb)\n",
    "            c = compute_coupling(vec1, vec2, B, 1.0)\n",
    "            couplings[i, j] = c\n",
    "            couplings[j, i] = c\n",
    "            \n",
    "    return couplings, a_par, nb_par\n",
    "\n",
    "def vector_couplings(max_distance, site_nb, B):\n",
    "    couplings, a_par, nb_par = get_all_couplings(max_distance, site_nb, B)\n",
    "    return couplings, a_par, nb_par"
   ]
  },
  {
   "cell_type": "code",
   "execution_count": 9,
   "id": "14a7ff6a-8163-458f-8ae5-e8268a2e7622",
   "metadata": {},
   "outputs": [],
   "source": [
    "\n",
    "# Generate all couplings !\n",
    "\n",
    "if os.path.isfile(file):\n",
    "    pass\n",
    "    # raise ValueError(f\"A file named {file} already exists\")\n",
    "\n",
    "with h5py.File(file, \"w\") as f:\n",
    "    f.require_group(\"couplings\")\n",
    "    f[\"couplings\"].attrs[\"size\"] = size\n",
    "    f[\"couplings\"].attrs[\"xymax\"] = xy_max\n",
    "    f[\"couplings\"].attrs[\"x_start\"] = 0\n",
    "    f[\"couplings\"].attrs[\"x_end\"] = size + 1\n",
    "    f[\"couplings\"].attrs[\"y_start\"] = 0\n",
    "    f[\"couplings\"].attrs[\"y_end\"] = size + 1\n",
    "    for x in trange(0, size+1):\n",
    "        for y in trange(0, size+1):\n",
    "            grp_name = f\"B_sweep_{x}_{y}\"\n",
    "            if grp_name in f[\"couplings\"]:\n",
    "                print(f\"Skipping {grp_name}\")\n",
    "                continue\n",
    "            B = np.array([x*xy_max/size, y*xy_max/size, 1])\n",
    "            B_0 = B / np.linalg.norm(B)\n",
    "            all_couplings, a_parallel, nb_par = vector_couplings(max_distance = max_distance, site_nb = site_nb, B=B_0)\n",
    "            \n",
    "            g = f[\"couplings\"].create_group(grp_name)\n",
    "            d1 = g.create_dataset(name = \"SEDOR_couplings\", data = all_couplings)\n",
    "            d2 = g.create_dataset(name = \"A_par_couplings\", data = a_parallel)\n",
    "            d3 = g.create_dataset(name = \"NB_couplings\", data = nb_par)\n",
    "\n",
    "            attrs = {\n",
    "                \"max_distance\": max_distance,\n",
    "                \"lattice_x\": lattice_x,\n",
    "                \"lattice_y\": lattice_y,\n",
    "                \"lattice_z\": lattice_z,\n",
    "                \"lattice_s\": lattice_s,\n",
    "                \"erbium_position\": erbium_position,\n",
    "                \"erbium_gamma\": erbium_gamma,\n",
    "                \"omega_I\": omega_I,\n",
    "                \"omega_S\": omega_S,\n",
    "                \"gamma_w\": gamma_w,\n",
    "                \"B\": B_0,\n",
    "            }\n",
    "\n",
    "            for k, v in attrs.items():\n",
    "                g.attrs[k] = v\n",
    "    "
   ]
  },
  {
   "cell_type": "code",
   "execution_count": 10,
   "id": "dda76b91-cb6c-4c26-8386-03a44b98daa3",
   "metadata": {},
   "outputs": [
    {
     "data": {
      "application/vnd.jupyter.widget-view+json": {
       "model_id": "504eb3409d654c54bad89d5fb01a40c4",
       "version_major": 2,
       "version_minor": 0
      },
      "text/plain": [
       "  0%|          | 0/41 [00:00<?, ?it/s]"
      ]
     },
     "metadata": {},
     "output_type": "display_data"
    },
    {
     "data": {
      "application/vnd.jupyter.widget-view+json": {
       "model_id": "8b5dbfeb060946ce90cd890bfa006c2b",
       "version_major": 2,
       "version_minor": 0
      },
      "text/plain": [
       "  0%|          | 0/41 [00:00<?, ?it/s]"
      ]
     },
     "metadata": {},
     "output_type": "display_data"
    },
    {
     "data": {
      "application/vnd.jupyter.widget-view+json": {
       "model_id": "7377d39a9a8e4dae8a6a03e867e71218",
       "version_major": 2,
       "version_minor": 0
      },
      "text/plain": [
       "  0%|          | 0/41 [00:00<?, ?it/s]"
      ]
     },
     "metadata": {},
     "output_type": "display_data"
    },
    {
     "data": {
      "application/vnd.jupyter.widget-view+json": {
       "model_id": "4de9eadd02c94e6fb5e5a1038c572d02",
       "version_major": 2,
       "version_minor": 0
      },
      "text/plain": [
       "  0%|          | 0/41 [00:00<?, ?it/s]"
      ]
     },
     "metadata": {},
     "output_type": "display_data"
    },
    {
     "data": {
      "application/vnd.jupyter.widget-view+json": {
       "model_id": "13bbd673b8b04ed8a1d32b9ad550424a",
       "version_major": 2,
       "version_minor": 0
      },
      "text/plain": [
       "  0%|          | 0/41 [00:00<?, ?it/s]"
      ]
     },
     "metadata": {},
     "output_type": "display_data"
    },
    {
     "data": {
      "application/vnd.jupyter.widget-view+json": {
       "model_id": "48c43a3c97954ed193a73da8af09eb6b",
       "version_major": 2,
       "version_minor": 0
      },
      "text/plain": [
       "  0%|          | 0/41 [00:00<?, ?it/s]"
      ]
     },
     "metadata": {},
     "output_type": "display_data"
    },
    {
     "data": {
      "application/vnd.jupyter.widget-view+json": {
       "model_id": "248e13c1de2545a3b1fe850f7c41218f",
       "version_major": 2,
       "version_minor": 0
      },
      "text/plain": [
       "  0%|          | 0/41 [00:00<?, ?it/s]"
      ]
     },
     "metadata": {},
     "output_type": "display_data"
    },
    {
     "data": {
      "application/vnd.jupyter.widget-view+json": {
       "model_id": "96837602eb0c4e159109b6221d51fcae",
       "version_major": 2,
       "version_minor": 0
      },
      "text/plain": [
       "  0%|          | 0/41 [00:00<?, ?it/s]"
      ]
     },
     "metadata": {},
     "output_type": "display_data"
    },
    {
     "data": {
      "application/vnd.jupyter.widget-view+json": {
       "model_id": "1abb5cf732dc462f98fa04bc9ec108a8",
       "version_major": 2,
       "version_minor": 0
      },
      "text/plain": [
       "  0%|          | 0/41 [00:00<?, ?it/s]"
      ]
     },
     "metadata": {},
     "output_type": "display_data"
    },
    {
     "data": {
      "application/vnd.jupyter.widget-view+json": {
       "model_id": "14321ac10fbe45c4847b32f145a08003",
       "version_major": 2,
       "version_minor": 0
      },
      "text/plain": [
       "  0%|          | 0/41 [00:00<?, ?it/s]"
      ]
     },
     "metadata": {},
     "output_type": "display_data"
    },
    {
     "data": {
      "application/vnd.jupyter.widget-view+json": {
       "model_id": "e903b17cb57749b58ef75b6a4767d251",
       "version_major": 2,
       "version_minor": 0
      },
      "text/plain": [
       "  0%|          | 0/41 [00:00<?, ?it/s]"
      ]
     },
     "metadata": {},
     "output_type": "display_data"
    },
    {
     "data": {
      "application/vnd.jupyter.widget-view+json": {
       "model_id": "98e1d4ddc5ff4d0c98248260997d9c28",
       "version_major": 2,
       "version_minor": 0
      },
      "text/plain": [
       "  0%|          | 0/41 [00:00<?, ?it/s]"
      ]
     },
     "metadata": {},
     "output_type": "display_data"
    },
    {
     "data": {
      "application/vnd.jupyter.widget-view+json": {
       "model_id": "2123383229c2413e8c5f92c802bc1824",
       "version_major": 2,
       "version_minor": 0
      },
      "text/plain": [
       "  0%|          | 0/41 [00:00<?, ?it/s]"
      ]
     },
     "metadata": {},
     "output_type": "display_data"
    },
    {
     "data": {
      "application/vnd.jupyter.widget-view+json": {
       "model_id": "c32f726c1396451eb9abbb9cd4f454b8",
       "version_major": 2,
       "version_minor": 0
      },
      "text/plain": [
       "  0%|          | 0/41 [00:00<?, ?it/s]"
      ]
     },
     "metadata": {},
     "output_type": "display_data"
    },
    {
     "data": {
      "application/vnd.jupyter.widget-view+json": {
       "model_id": "0c23efaf98b843db96ce040cd6287be2",
       "version_major": 2,
       "version_minor": 0
      },
      "text/plain": [
       "  0%|          | 0/41 [00:00<?, ?it/s]"
      ]
     },
     "metadata": {},
     "output_type": "display_data"
    },
    {
     "data": {
      "application/vnd.jupyter.widget-view+json": {
       "model_id": "8903cb9f47a84bbda421addb137f97c3",
       "version_major": 2,
       "version_minor": 0
      },
      "text/plain": [
       "  0%|          | 0/41 [00:00<?, ?it/s]"
      ]
     },
     "metadata": {},
     "output_type": "display_data"
    },
    {
     "data": {
      "application/vnd.jupyter.widget-view+json": {
       "model_id": "9295a2fd9ecb463f8e1fbc9266e01d7d",
       "version_major": 2,
       "version_minor": 0
      },
      "text/plain": [
       "  0%|          | 0/41 [00:00<?, ?it/s]"
      ]
     },
     "metadata": {},
     "output_type": "display_data"
    },
    {
     "data": {
      "application/vnd.jupyter.widget-view+json": {
       "model_id": "ebc381a5032649c284ae3728dc788823",
       "version_major": 2,
       "version_minor": 0
      },
      "text/plain": [
       "  0%|          | 0/41 [00:00<?, ?it/s]"
      ]
     },
     "metadata": {},
     "output_type": "display_data"
    },
    {
     "data": {
      "application/vnd.jupyter.widget-view+json": {
       "model_id": "99ec97ac886f405a8a8773777d72f7d8",
       "version_major": 2,
       "version_minor": 0
      },
      "text/plain": [
       "  0%|          | 0/41 [00:00<?, ?it/s]"
      ]
     },
     "metadata": {},
     "output_type": "display_data"
    },
    {
     "data": {
      "application/vnd.jupyter.widget-view+json": {
       "model_id": "47d09722bbf14b408d79d5761f17cde3",
       "version_major": 2,
       "version_minor": 0
      },
      "text/plain": [
       "  0%|          | 0/41 [00:00<?, ?it/s]"
      ]
     },
     "metadata": {},
     "output_type": "display_data"
    },
    {
     "data": {
      "application/vnd.jupyter.widget-view+json": {
       "model_id": "91a8387b0f8f45628ef216ab9b746135",
       "version_major": 2,
       "version_minor": 0
      },
      "text/plain": [
       "  0%|          | 0/41 [00:00<?, ?it/s]"
      ]
     },
     "metadata": {},
     "output_type": "display_data"
    },
    {
     "data": {
      "application/vnd.jupyter.widget-view+json": {
       "model_id": "46eac133345b400aae39129fb152594d",
       "version_major": 2,
       "version_minor": 0
      },
      "text/plain": [
       "  0%|          | 0/41 [00:00<?, ?it/s]"
      ]
     },
     "metadata": {},
     "output_type": "display_data"
    },
    {
     "data": {
      "application/vnd.jupyter.widget-view+json": {
       "model_id": "545d678be7e74bc08c055d6381b6558a",
       "version_major": 2,
       "version_minor": 0
      },
      "text/plain": [
       "  0%|          | 0/41 [00:00<?, ?it/s]"
      ]
     },
     "metadata": {},
     "output_type": "display_data"
    },
    {
     "data": {
      "application/vnd.jupyter.widget-view+json": {
       "model_id": "7f904b8436c54260915b801d8c62ac9f",
       "version_major": 2,
       "version_minor": 0
      },
      "text/plain": [
       "  0%|          | 0/41 [00:00<?, ?it/s]"
      ]
     },
     "metadata": {},
     "output_type": "display_data"
    },
    {
     "data": {
      "application/vnd.jupyter.widget-view+json": {
       "model_id": "4f57d37bd79147a88b803df615e11604",
       "version_major": 2,
       "version_minor": 0
      },
      "text/plain": [
       "  0%|          | 0/41 [00:00<?, ?it/s]"
      ]
     },
     "metadata": {},
     "output_type": "display_data"
    },
    {
     "data": {
      "application/vnd.jupyter.widget-view+json": {
       "model_id": "93cefb44e3b84c478cb3c721e0caf579",
       "version_major": 2,
       "version_minor": 0
      },
      "text/plain": [
       "  0%|          | 0/41 [00:00<?, ?it/s]"
      ]
     },
     "metadata": {},
     "output_type": "display_data"
    },
    {
     "data": {
      "application/vnd.jupyter.widget-view+json": {
       "model_id": "02d318fde9c84973ac6c1e1d670668f7",
       "version_major": 2,
       "version_minor": 0
      },
      "text/plain": [
       "  0%|          | 0/41 [00:00<?, ?it/s]"
      ]
     },
     "metadata": {},
     "output_type": "display_data"
    },
    {
     "data": {
      "application/vnd.jupyter.widget-view+json": {
       "model_id": "5b16de5f34bd4520bf033df50e46236d",
       "version_major": 2,
       "version_minor": 0
      },
      "text/plain": [
       "  0%|          | 0/41 [00:00<?, ?it/s]"
      ]
     },
     "metadata": {},
     "output_type": "display_data"
    },
    {
     "data": {
      "application/vnd.jupyter.widget-view+json": {
       "model_id": "59efe6b1dbf94b538792992572adfac5",
       "version_major": 2,
       "version_minor": 0
      },
      "text/plain": [
       "  0%|          | 0/41 [00:00<?, ?it/s]"
      ]
     },
     "metadata": {},
     "output_type": "display_data"
    },
    {
     "data": {
      "application/vnd.jupyter.widget-view+json": {
       "model_id": "83bceddae70a4706a1a8599ef5fdd83e",
       "version_major": 2,
       "version_minor": 0
      },
      "text/plain": [
       "  0%|          | 0/41 [00:00<?, ?it/s]"
      ]
     },
     "metadata": {},
     "output_type": "display_data"
    },
    {
     "data": {
      "application/vnd.jupyter.widget-view+json": {
       "model_id": "633a1435e1ae4156988f3537e685f308",
       "version_major": 2,
       "version_minor": 0
      },
      "text/plain": [
       "  0%|          | 0/41 [00:00<?, ?it/s]"
      ]
     },
     "metadata": {},
     "output_type": "display_data"
    },
    {
     "data": {
      "application/vnd.jupyter.widget-view+json": {
       "model_id": "120af771fe24409bacbb10387d8e2c9f",
       "version_major": 2,
       "version_minor": 0
      },
      "text/plain": [
       "  0%|          | 0/41 [00:00<?, ?it/s]"
      ]
     },
     "metadata": {},
     "output_type": "display_data"
    },
    {
     "data": {
      "application/vnd.jupyter.widget-view+json": {
       "model_id": "d3a67c9c45a84c6aaed2864b29bf3f78",
       "version_major": 2,
       "version_minor": 0
      },
      "text/plain": [
       "  0%|          | 0/41 [00:00<?, ?it/s]"
      ]
     },
     "metadata": {},
     "output_type": "display_data"
    },
    {
     "data": {
      "application/vnd.jupyter.widget-view+json": {
       "model_id": "2abc7dba7556474bb6525f0bbf7db081",
       "version_major": 2,
       "version_minor": 0
      },
      "text/plain": [
       "  0%|          | 0/41 [00:00<?, ?it/s]"
      ]
     },
     "metadata": {},
     "output_type": "display_data"
    },
    {
     "data": {
      "application/vnd.jupyter.widget-view+json": {
       "model_id": "47a4eeb43b214cb08cc36d5378f3d364",
       "version_major": 2,
       "version_minor": 0
      },
      "text/plain": [
       "  0%|          | 0/41 [00:00<?, ?it/s]"
      ]
     },
     "metadata": {},
     "output_type": "display_data"
    },
    {
     "data": {
      "application/vnd.jupyter.widget-view+json": {
       "model_id": "9706d66fb09e456384ec62265f72db2a",
       "version_major": 2,
       "version_minor": 0
      },
      "text/plain": [
       "  0%|          | 0/41 [00:00<?, ?it/s]"
      ]
     },
     "metadata": {},
     "output_type": "display_data"
    },
    {
     "data": {
      "application/vnd.jupyter.widget-view+json": {
       "model_id": "754da86b748e4302acb4d574a6155c4f",
       "version_major": 2,
       "version_minor": 0
      },
      "text/plain": [
       "  0%|          | 0/41 [00:00<?, ?it/s]"
      ]
     },
     "metadata": {},
     "output_type": "display_data"
    },
    {
     "data": {
      "application/vnd.jupyter.widget-view+json": {
       "model_id": "b70ec1ec0a3040f7ab8a13d34c89033c",
       "version_major": 2,
       "version_minor": 0
      },
      "text/plain": [
       "  0%|          | 0/41 [00:00<?, ?it/s]"
      ]
     },
     "metadata": {},
     "output_type": "display_data"
    },
    {
     "data": {
      "application/vnd.jupyter.widget-view+json": {
       "model_id": "1f4ac10a64e4496cbf2cc85b587bc03a",
       "version_major": 2,
       "version_minor": 0
      },
      "text/plain": [
       "  0%|          | 0/41 [00:00<?, ?it/s]"
      ]
     },
     "metadata": {},
     "output_type": "display_data"
    },
    {
     "data": {
      "application/vnd.jupyter.widget-view+json": {
       "model_id": "8000e2931c3f4264b06ee9dfbaa07ca4",
       "version_major": 2,
       "version_minor": 0
      },
      "text/plain": [
       "  0%|          | 0/41 [00:00<?, ?it/s]"
      ]
     },
     "metadata": {},
     "output_type": "display_data"
    },
    {
     "data": {
      "application/vnd.jupyter.widget-view+json": {
       "model_id": "7d51024a5b6545e2a373d13e0aa393fd",
       "version_major": 2,
       "version_minor": 0
      },
      "text/plain": [
       "  0%|          | 0/41 [00:00<?, ?it/s]"
      ]
     },
     "metadata": {},
     "output_type": "display_data"
    },
    {
     "data": {
      "application/vnd.jupyter.widget-view+json": {
       "model_id": "d02951f20b1c4e069899ebe4deb2867c",
       "version_major": 2,
       "version_minor": 0
      },
      "text/plain": [
       "  0%|          | 0/41 [00:00<?, ?it/s]"
      ]
     },
     "metadata": {},
     "output_type": "display_data"
    }
   ],
   "source": [
    "\"\"\"\n",
    "if not os.path.isfile(file):\n",
    "    raise ValueError(f\"{file} not found\")\n",
    "\n",
    "@jit(parallel = True)\n",
    "def get_nb_couplings(max_distance, site_nb, B):\n",
    "    nb_par = np.empty(max_distance**3*site_nb)\n",
    "    for i in prange(max_distance**3*site_nb):\n",
    "        vec1 = index_to_coord(i, max_distance, site_nb)\n",
    "        if vec1 == (0,0,0,0):\n",
    "            nb_par[i] = np.nan\n",
    "        else:\n",
    "            nb_par[i] = compute_coupling(vec1, (0,0,0,0), B, 1/gamma_ratio)\n",
    "            \n",
    "    return nb_par\n",
    "\n",
    "with h5py.File(file, \"r+\") as f:\n",
    "    f.require_group(\"couplings\")\n",
    "    size = f[\"couplings\"].attrs[\"size\"]\n",
    "    f[\"couplings\"].attrs[\"xy_max\"] = xy_max\n",
    "    for x in trange(-size, size+1):\n",
    "        for y in trange(-size, size+1):\n",
    "            g = f[\"couplings\"][f\"B_sweep_{x}_{y}\"]\n",
    "            B = np.array([x*xy_max/size, y*xy_max/size, 1])\n",
    "            B_0 = B / np.linalg.norm(B)\n",
    "            nb_par = get_nb_couplings(max_distance, site_nb, B_0)\n",
    "\n",
    "            d2 = g.create_dataset(name = \"NB_couplings\", data = nb_par)\n",
    "\n",
    "            attrs = {\n",
    "                \"max_distance\": max_distance,\n",
    "                \"lattice_x\": lattice_x,\n",
    "                \"lattice_y\": lattice_y,\n",
    "                \"lattice_z\": lattice_z,\n",
    "                \"lattice_s\": lattice_s,\n",
    "                \"erbium_position\": erbium_position,\n",
    "                \"erbium_gamma\": erbium_gamma,\n",
    "                \"omega_I\": omega_I,\n",
    "                \"omega_S\": omega_S,\n",
    "                \"gamma_w\": gamma_w,\n",
    "                \"B\": B_0,\n",
    "            }\n",
    "\n",
    "            for k, v in attrs.items():\n",
    "                g.attrs[k] = v\n",
    "\"\"\"\n",
    "pass"
   ]
  },
  {
   "cell_type": "code",
   "execution_count": null,
   "id": "4f974b89-c0c0-47aa-b3ac-6008cb96ae6b",
   "metadata": {},
   "outputs": [],
   "source": []
  },
  {
   "cell_type": "code",
   "execution_count": null,
   "id": "e5dd6eb4-eaa1-4906-abf3-d7007eefdcce",
   "metadata": {},
   "outputs": [],
   "source": []
  },
  {
   "cell_type": "code",
   "execution_count": null,
   "id": "be95930d-86ab-4278-b109-c387cbd78736",
   "metadata": {},
   "outputs": [],
   "source": []
  }
 ],
 "metadata": {
  "kernelspec": {
   "display_name": "Python 3 (ipykernel)",
   "language": "python",
   "name": "python3"
  },
  "language_info": {
   "codemirror_mode": {
    "name": "ipython",
    "version": 3
   },
   "file_extension": ".py",
   "mimetype": "text/x-python",
   "name": "python",
   "nbconvert_exporter": "python",
   "pygments_lexer": "ipython3",
   "version": "3.12.10"
  }
 },
 "nbformat": 4,
 "nbformat_minor": 5
}
